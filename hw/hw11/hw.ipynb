{
 "cells": [
  {
   "cell_type": "code",
   "id": "75c84b2dd91b2a09",
   "metadata": {
    "ExecuteTime": {
     "end_time": "2025-04-11T04:25:27.601819Z",
     "start_time": "2025-04-11T04:25:25.813369Z"
    }
   },
   "source": [
    "import numpy as np\n",
    "from scipy.integrate import quad\n",
    "\n",
    "# Function to integrate\n",
    "def f(s):\n",
    "    return 1 / (1 + s**2)\n",
    "\n",
    "# Composite Trapezoidal Rule\n",
    "def trapezoidal(f, a, b, n):\n",
    "    h = (b - a) / n\n",
    "    x = np.linspace(a, b, n + 1)\n",
    "    # n + 1 invocations\n",
    "    y = f(x)\n",
    "    return h * (0.5 * y[0] + np.sum(y[1:-1]) + 0.5 * y[-1])\n",
    "\n",
    "# Composite Simpson's Rule\n",
    "def simpsons(f, a, b, n):\n",
    "    if n % 2 != 0:\n",
    "        raise ValueError(\"n must be even\")\n",
    "    h = (b - a) / n\n",
    "    x = np.linspace(a, b, n + 1)\n",
    "    # n + 1 invocations\n",
    "    y = f(x)\n",
    "    return h / 3 * (y[0] + 4 * np.sum(y[1:n:2]) + 2 * np.sum(y[2:n-1:2]) + y[n])\n",
    "\n",
    "# Exact value using analytical result\n",
    "Ireal = 2 * np.arctan(5)\n",
    "\n",
    "# Error estimation bounds\n",
    "a, b = -5, 5"
   ],
   "outputs": [],
   "execution_count": 3
  },
  {
   "metadata": {
    "collapsed": true,
    "ExecuteTime": {
     "end_time": "2025-04-11T04:25:22.597886Z",
     "start_time": "2025-04-11T04:25:22.508126Z"
    }
   },
   "cell_type": "code",
   "source": [
    "tol = 1e-4\n",
    "\n",
    "def d2f(s):\n",
    "    return np.abs((6 * s**2 - 2) / (1 + s**2)**3)\n",
    "\n",
    "# find max of 2nd derivative\n",
    "s_vals = np.linspace(a, b, 1000)\n",
    "max_f2 = np.max(d2f(s_vals))\n",
    "\n",
    "n_trap = int(np.ceil(np.sqrt(((b - a)**3 * max_f2) / (12 * tol))))\n",
    "\n",
    "def d4f(s):\n",
    "    return (384*s**4)/(1 + s**2)**5 - (288*s**2)/(1 + s**2)**4 + 24/(1 + s**2)**3\n",
    "\n",
    "# f2_vals = d2f(s_vals)\n",
    "# f4_approx = np.gradient(np.gradient(f2_vals, s_vals), s_vals)\n",
    "# max_f4 = np.max(np.abs(f4_approx))\n",
    "max_f4 = np.max(d4f(s_vals))\n",
    "\n",
    "n_simp = int(np.ceil((((b - a)**5 * max_f4) / (180 * tol)) ** (1 / 4)))\n",
    "if n_simp % 2 != 0:\n",
    "    n_simp += 1  # Simpsons needs even n\n",
    "\n",
    "# Apply rules\n",
    "Tn = trapezoidal(f, a, b, n_trap)\n",
    "Sn = simpsons(f, a, b, n_simp)\n",
    "\n",
    "# Scipy integration for comparison\n",
    "result_high_prec, _, info_high_prec = quad(f, a, b, epsabs=1e-6, full_output=1)\n",
    "result_low_prec, _, info_low_prec = quad(f, a, b, epsabs=1e-4, full_output=1)\n",
    "\n",
    "# Print results\n",
    "print(f\"Exact value: {Ireal:.15f}\")\n",
    "print(f\"\\nTrapezoidal:\")\n",
    "print(f\"n = {n_trap}\")\n",
    "print(f\"Approximation = {Tn}\")\n",
    "print(f\"Error = {abs(Ireal - Tn)}\")\n",
    "print(f\"Function evaluations = {n_trap + 1}\")\n",
    "\n",
    "print(f\"\\nSimpsons:\")\n",
    "print(f\"n = {n_simp}\")\n",
    "print(f\"Approximation = {Sn}\")\n",
    "print(f\"Error = {abs(Ireal - Sn)}\")\n",
    "print(f\"Function evaluations = {n_simp + 1}\")\n",
    "\n",
    "print(f\"\\nScipy quad:\")\n",
    "print(f\"Tolerance 1e-6: Value = {result_high_prec}, Function calls = {info_high_prec['neval']}\")\n",
    "print(f\"Tolerance 1e-4: Value = {result_low_prec}, Function calls = {info_low_prec['neval']}\")"
   ],
   "id": "initial_id",
   "outputs": [
    {
     "ename": "NameError",
     "evalue": "name 'np' is not defined",
     "output_type": "error",
     "traceback": [
      "\u001B[1;31m---------------------------------------------------------------------------\u001B[0m",
      "\u001B[1;31mNameError\u001B[0m                                 Traceback (most recent call last)",
      "Cell \u001B[1;32mIn[2], line 7\u001B[0m\n\u001B[0;32m      4\u001B[0m     \u001B[38;5;28;01mreturn\u001B[39;00m np\u001B[38;5;241m.\u001B[39mabs((\u001B[38;5;241m6\u001B[39m \u001B[38;5;241m*\u001B[39m s\u001B[38;5;241m*\u001B[39m\u001B[38;5;241m*\u001B[39m\u001B[38;5;241m2\u001B[39m \u001B[38;5;241m-\u001B[39m \u001B[38;5;241m2\u001B[39m) \u001B[38;5;241m/\u001B[39m (\u001B[38;5;241m1\u001B[39m \u001B[38;5;241m+\u001B[39m s\u001B[38;5;241m*\u001B[39m\u001B[38;5;241m*\u001B[39m\u001B[38;5;241m2\u001B[39m)\u001B[38;5;241m*\u001B[39m\u001B[38;5;241m*\u001B[39m\u001B[38;5;241m3\u001B[39m)\n\u001B[0;32m      6\u001B[0m \u001B[38;5;66;03m# find max of 2nd derivative\u001B[39;00m\n\u001B[1;32m----> 7\u001B[0m s_vals \u001B[38;5;241m=\u001B[39m np\u001B[38;5;241m.\u001B[39mlinspace(a, b, \u001B[38;5;241m1000\u001B[39m)\n\u001B[0;32m      8\u001B[0m max_f2 \u001B[38;5;241m=\u001B[39m np\u001B[38;5;241m.\u001B[39mmax(d2f(s_vals))\n\u001B[0;32m     10\u001B[0m n_trap \u001B[38;5;241m=\u001B[39m \u001B[38;5;28mint\u001B[39m(np\u001B[38;5;241m.\u001B[39mceil(np\u001B[38;5;241m.\u001B[39msqrt(((b \u001B[38;5;241m-\u001B[39m a)\u001B[38;5;241m*\u001B[39m\u001B[38;5;241m*\u001B[39m\u001B[38;5;241m3\u001B[39m \u001B[38;5;241m*\u001B[39m max_f2) \u001B[38;5;241m/\u001B[39m (\u001B[38;5;241m12\u001B[39m \u001B[38;5;241m*\u001B[39m tol))))\n",
      "\u001B[1;31mNameError\u001B[0m: name 'np' is not defined"
     ]
    }
   ],
   "execution_count": 2
  },
  {
   "metadata": {
    "ExecuteTime": {
     "end_time": "2025-04-11T04:25:28.657955Z",
     "start_time": "2025-04-11T04:25:28.644090Z"
    }
   },
   "cell_type": "code",
   "source": [
    "def f(t):\n",
    "    return t * np.cos(1/t)\n",
    "\n",
    "# use a=1e-16 to avoid singularity at x=0\n",
    "# use n=4 for 5 nodes\n",
    "simpsons(f, 1e-16, 1, 4)"
   ],
   "id": "5e4f6dc28424b449",
   "outputs": [
    {
     "data": {
      "text/plain": [
       "np.float64(0.014685380697196066)"
      ]
     },
     "execution_count": 4,
     "metadata": {},
     "output_type": "execute_result"
    }
   ],
   "execution_count": 4
  }
 ],
 "metadata": {
  "kernelspec": {
   "display_name": "Python 3",
   "language": "python",
   "name": "python3"
  },
  "language_info": {
   "codemirror_mode": {
    "name": "ipython",
    "version": 2
   },
   "file_extension": ".py",
   "mimetype": "text/x-python",
   "name": "python",
   "nbconvert_exporter": "python",
   "pygments_lexer": "ipython2",
   "version": "2.7.6"
  }
 },
 "nbformat": 4,
 "nbformat_minor": 5
}
