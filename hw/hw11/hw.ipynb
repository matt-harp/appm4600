{
 "cells": [
  {
   "cell_type": "code",
   "id": "75c84b2dd91b2a09",
   "metadata": {
    "ExecuteTime": {
     "end_time": "2025-04-10T20:20:30.104920Z",
     "start_time": "2025-04-10T20:20:30.090064Z"
    }
   },
   "source": [
    "import numpy as np\n",
    "from scipy.integrate import quad\n",
    "\n",
    "# Function to integrate\n",
    "def f(s):\n",
    "    return 1 / (1 + s**2)\n",
    "\n",
    "# Composite Trapezoidal Rule\n",
    "def trapezoidal(f, a, b, n):\n",
    "    h = (b - a) / n\n",
    "    x = np.linspace(a, b, n + 1)\n",
    "    y = f(x)\n",
    "    return h * (0.5 * y[0] + np.sum(y[1:-1]) + 0.5 * y[-1])\n",
    "\n",
    "# Composite Simpson's Rule\n",
    "def simpsons(f, a, b, n):\n",
    "    if n % 2 != 0:\n",
    "        raise ValueError(\"n must be even\")\n",
    "    h = (b - a) / n\n",
    "    x = np.linspace(a, b, n + 1)\n",
    "    y = f(x)\n",
    "    return h / 3 * (y[0] + 4 * np.sum(y[1:n:2]) + 2 * np.sum(y[2:n-1:2]) + y[n])\n",
    "\n",
    "# Exact value using analytical result\n",
    "Ireal = 2 * np.arctan(5)\n",
    "\n",
    "# Error estimation bounds\n",
    "a, b = -5, 5"
   ],
   "outputs": [],
   "execution_count": 2
  },
  {
   "metadata": {
    "collapsed": true,
    "ExecuteTime": {
     "end_time": "2025-04-10T20:29:28.276818Z",
     "start_time": "2025-04-10T20:29:28.246910Z"
    }
   },
   "cell_type": "code",
   "source": [
    "tol = 1e-4\n",
    "\n",
    "def d2f(s):\n",
    "    return np.abs((6 * s**2 - 2) / (1 + s**2)**3)\n",
    "\n",
    "# find max of 2nd derivative\n",
    "s_vals = np.linspace(a, b, 1000)\n",
    "max_f2 = np.max(d2f(s_vals))\n",
    "\n",
    "n_trap = int(np.ceil(np.sqrt(((b - a)**3 * max_f2) / (12 * tol))))\n",
    "\n",
    "def d4f(s):\n",
    "    return (384*s**4)/(1 + s**2)**5 - (288*s**2)/(1 + s**2)**4 + 24/(1 + s**2)**3\n",
    "\n",
    "# f2_vals = d2f(s_vals)\n",
    "# f4_approx = np.gradient(np.gradient(f2_vals, s_vals), s_vals)\n",
    "# max_f4 = np.max(np.abs(f4_approx))\n",
    "max_f4 = np.max(d4f(s_vals))\n",
    "\n",
    "n_simp = int(np.ceil((((b - a)**5 * max_f4) / (180 * tol)) ** (1 / 4)))\n",
    "if n_simp % 2 != 0:\n",
    "    n_simp += 1  # Simpsons needs even n\n",
    "\n",
    "# Apply rules\n",
    "Tn = trapezoidal(f, a, b, n_trap)\n",
    "Sn = simpsons(f, a, b, n_simp)\n",
    "\n",
    "# Scipy integration for comparison\n",
    "result_high_prec, _, info_high_prec = quad(f, a, b, epsabs=1e-6, full_output=1)\n",
    "result_low_prec, _, info_low_prec = quad(f, a, b, epsabs=1e-4, full_output=1)\n",
    "\n",
    "# Print results\n",
    "print(f\"Exact value: {Ireal:.15f}\")\n",
    "print(f\"\\nTrapezoidal:\")\n",
    "print(f\"n = {n_trap}\")\n",
    "print(f\"Approximation = {Tn}\")\n",
    "print(f\"Error = {abs(Ireal - Tn)}\")\n",
    "print(f\"Function evaluations = {n_trap + 1}\")\n",
    "\n",
    "print(f\"\\nSimpsons:\")\n",
    "print(f\"n = {n_simp}\")\n",
    "print(f\"Approximation = {Sn}\")\n",
    "print(f\"Error = {abs(Ireal - Sn)}\")\n",
    "print(f\"Function evaluations = {n_simp + 1}\")\n",
    "\n",
    "print(f\"\\nScipy quad:\")\n",
    "print(f\"Tolerance 1e-6: Value = {result_high_prec}, Function calls = {info_high_prec['neval']}\")\n",
    "print(f\"Tolerance 1e-4: Value = {result_low_prec}, Function calls = {info_low_prec['neval']}\")"
   ],
   "id": "initial_id",
   "outputs": [
    {
     "name": "stdout",
     "output_type": "stream",
     "text": [
      "Exact value: 2.746801533890032\n",
      "\n",
      "Trapezoidal:\n",
      "n = 1291\n",
      "Approximation = 2.7468013859623728\n",
      "Error = 1.4792765901106009e-07\n",
      "Function evaluations = 1292\n",
      "\n",
      "Simpsons:\n",
      "n = 108\n",
      "Approximation = 2.746801528748203\n",
      "Error = 5.14182874056246e-09\n",
      "Function evaluations = 109\n",
      "\n",
      "Scipy quad:\n",
      "Tolerance 1e-6: Value = 2.7468015338900327, Function calls = 147\n",
      "Tolerance 1e-4: Value = 2.746801533909586, Function calls = 63\n"
     ]
    }
   ],
   "execution_count": 7
  }
 ],
 "metadata": {
  "kernelspec": {
   "display_name": "Python 3",
   "language": "python",
   "name": "python3"
  },
  "language_info": {
   "codemirror_mode": {
    "name": "ipython",
    "version": 2
   },
   "file_extension": ".py",
   "mimetype": "text/x-python",
   "name": "python",
   "nbconvert_exporter": "python",
   "pygments_lexer": "ipython2",
   "version": "2.7.6"
  }
 },
 "nbformat": 4,
 "nbformat_minor": 5
}
