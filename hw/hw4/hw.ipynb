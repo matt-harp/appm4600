{
 "cells": [
  {
   "metadata": {
    "ExecuteTime": {
     "end_time": "2025-02-13T22:13:30.225640Z",
     "start_time": "2025-02-13T22:13:30.022080Z"
    }
   },
   "cell_type": "code",
   "source": [
    "from typing import Tuple\n",
    "import numpy as np\n",
    "\n",
    "def bisection(f,a,b,tol) -> Tuple[bool, float, int]:\n",
    "    fa = f(a)\n",
    "    fb = f(b)\n",
    "    # failure when it won't converge\n",
    "    if fa * fb > 0: return False, np.inf, 0\n",
    "    # verify end points are not a root\n",
    "    if fa == 0:     return True, a, 0\n",
    "    if fb == 0:     return True, b, 0\n",
    "\n",
    "    count = 0\n",
    "    d = 0.5*(a+b)\n",
    "    while abs(d - a) > tol:\n",
    "        fd = f(d)\n",
    "        if fd == 0:         return True, d, count\n",
    "        if fa * fd < 0:     b = d\n",
    "        else:               a = d; fa = fd\n",
    "        d = 0.5*(a+b)\n",
    "        count += 1\n",
    "    return True, d, count\n",
    "\n",
    "def newton_method(f,df,x0,tol,nmax,verb=False):\n",
    "\n",
    "    #Initialize iterates and iterate list\n",
    "    xn=x0\n",
    "    rn=np.array([x0])\n",
    "    # function evaluations\n",
    "    fn=f(xn); dfn=df(xn)\n",
    "    nfun=2 #evaluation counter nfun\n",
    "    dtol=1e-10 #tolerance for derivative (being near 0)\n",
    "\n",
    "    if abs(dfn)<dtol:\n",
    "        #If derivative is too small, Newton will fail. Error message is\n",
    "        #displayed and code terminates.\n",
    "        if verb:\n",
    "            print('derivative -> 0')# fprintf('\\n derivative at initial guess is near 0, try different x0 \\n')\n",
    "        return\n",
    "    else:\n",
    "        n=0\n",
    "        if verb:\n",
    "            print(\"\\n|--n--|----xn----|---|f(xn)|---|---|f'(xn)|---|\")\n",
    "\n",
    "        #Iteration runs until f(xn) is small enough or nmax iterations are computed.\n",
    "\n",
    "        while n<=nmax:\n",
    "            if verb:\n",
    "                print(\"|--%d--|%1.8f|%1.8f|%1.8f|\" %(n,xn,np.abs(fn),np.abs(dfn)))\n",
    "\n",
    "            pn = - fn/dfn #Newton step\n",
    "            if np.abs(pn)<tol or np.abs(fn)<2e-15:\n",
    "                break\n",
    "\n",
    "            #Update guess adding Newton step\n",
    "            xn = xn + pn\n",
    "\n",
    "            # Update info and loop\n",
    "            n+=1\n",
    "            rn=np.append(rn,xn)\n",
    "            dfn=df(xn)\n",
    "            fn=f(xn)\n",
    "            nfun+=2\n",
    "\n",
    "        r=xn\n",
    "\n",
    "        # if n>=nmax:\n",
    "        #     print(\"Newton method failed to converge, niter=%d, nfun=%d, f(r)=%1.1e\\n'\" %(n,nfun,np.abs(fn)))\n",
    "        # else:\n",
    "        #     print(\"Newton method converged succesfully, niter=%d, nfun=%d, f(r)=%1.1e\" %(n,nfun,np.abs(fn)))\n",
    "\n",
    "    return r,rn,n"
   ],
   "id": "7f5a57f412494d4",
   "outputs": [],
   "execution_count": 1
  },
  {
   "metadata": {},
   "cell_type": "markdown",
   "source": "# P1",
   "id": "f27459628e58a87a"
  },
  {
   "cell_type": "code",
   "id": "9ff3362c26add6b4",
   "metadata": {
    "ExecuteTime": {
     "end_time": "2025-02-13T22:13:31.197387Z",
     "start_time": "2025-02-13T22:13:30.233647Z"
    }
   },
   "source": [
    "import scipy\n",
    "import matplotlib.pyplot as plt\n",
    "\n",
    "Ti = 20\n",
    "Ts = -15\n",
    "alpha = 0.138e-6\n",
    "epsilon = 1e-13\n",
    "\n",
    "f = lambda _x: (Ti - Ts) * scipy.special.erf(_x/(2*np.sqrt(alpha * 5.184 * 10**6))) + Ts\n",
    "df = lambda _x: (Ti - Ts) * (2/np.sqrt(np.pi)) * np.exp(-(_x*_x)/(alpha * 2.0736 * 10**7)) * (1/(2*np.sqrt(alpha * 5.184 * 10**6)))"
   ],
   "outputs": [],
   "execution_count": 2
  },
  {
   "metadata": {
    "collapsed": true,
    "ExecuteTime": {
     "end_time": "2025-02-13T22:13:32.403077Z",
     "start_time": "2025-02-13T22:13:31.523834Z"
    }
   },
   "cell_type": "code",
   "source": [
    "x = np.linspace(0, 5, 100)\n",
    "y = f(x)\n",
    "\n",
    "plt.plot(x,y)\n",
    "plt.xlabel(\"x (m)\")\n",
    "plt.ylabel(\"degrees C\")\n",
    "plt.show()"
   ],
   "id": "initial_id",
   "outputs": [
    {
     "data": {
      "text/plain": [
       "<Figure size 640x480 with 1 Axes>"
      ],
      "image/png": "[encoded data removed]"
     },
     "metadata": {},
     "output_type": "display_data"
    }
   ],
   "execution_count": 3
  },
  {
   "metadata": {
    "ExecuteTime": {
     "end_time": "2025-02-13T22:13:32.434599Z",
     "start_time": "2025-02-13T22:13:32.425775Z"
    }
   },
   "cell_type": "code",
   "source": "bisection(f, 0, 5, epsilon)",
   "id": "3e137c53a8f58825",
   "outputs": [
    {
     "data": {
      "text/plain": [
       "(True, 0.6769618544819167, 45)"
      ]
     },
     "execution_count": 4,
     "metadata": {},
     "output_type": "execute_result"
    }
   ],
   "execution_count": 4
  },
  {
   "metadata": {
    "ExecuteTime": {
     "end_time": "2025-02-13T22:13:32.485643Z",
     "start_time": "2025-02-13T22:13:32.477350Z"
    }
   },
   "cell_type": "code",
   "source": "newton_method(f, df, 0.01, epsilon, 1000)",
   "id": "51b7db63b6ef057",
   "outputs": [
    {
     "data": {
      "text/plain": [
       "(np.float64(0.6769618544819365),\n",
       " array([0.01      , 0.64251787, 0.67669213, 0.67696184, 0.67696185]),\n",
       " 4)"
      ]
     },
     "execution_count": 5,
     "metadata": {},
     "output_type": "execute_result"
    }
   ],
   "execution_count": 5
  },
  {
   "metadata": {
    "ExecuteTime": {
     "end_time": "2025-02-13T22:13:32.578418Z",
     "start_time": "2025-02-13T22:13:32.544339Z"
    }
   },
   "cell_type": "code",
   "source": "newton_method(f, df, 5, epsilon, 1000)",
   "id": "71f76b50874ca9e5",
   "outputs": [
    {
     "name": "stderr",
     "output_type": "stream",
     "text": [
      "C:\\Users\\matth\\AppData\\Local\\Temp\\ipykernel_6484\\1327096939.py:51: RuntimeWarning: divide by zero encountered in scalar divide\n",
      "  pn = - fn/dfn #Newton step\n",
      "C:\\Users\\matth\\AppData\\Local\\Temp\\ipykernel_6484\\1327096939.py:56: RuntimeWarning: invalid value encountered in scalar add\n",
      "  xn = xn + pn\n"
     ]
    },
    {
     "data": {
      "text/plain": [
       "(np.float64(nan),\n",
       " array([ 5.00000000e+00, -5.32818977e+03,             inf, ...,\n",
       "                    nan,             nan,             nan], shape=(1002,)),\n",
       " 1001)"
      ]
     },
     "execution_count": 6,
     "metadata": {},
     "output_type": "execute_result"
    }
   ],
   "execution_count": 6
  },
  {
   "metadata": {},
   "cell_type": "markdown",
   "source": "# P4",
   "id": "82beed045a7ea2cb"
  },
  {
   "metadata": {
    "ExecuteTime": {
     "end_time": "2025-02-14T21:44:00.712426Z",
     "start_time": "2025-02-14T21:44:00.692406Z"
    }
   },
   "cell_type": "code",
   "source": [
    "def newton_modified(f,df,x0,tol,nmax,verb=False):\n",
    "\n",
    "    #Initialize iterates and iterate list\n",
    "    xn=x0\n",
    "    rn=np.array([x0])\n",
    "    # function evaluations\n",
    "    fn=f(xn); dfn=df(xn)\n",
    "    nfun=2 #evaluation counter nfun\n",
    "    dtol=1e-10 #tolerance for derivative (being near 0)\n",
    "\n",
    "    if abs(dfn)<dtol:\n",
    "        #If derivative is too small, Newton will fail. Error message is\n",
    "        #displayed and code terminates.\n",
    "        if verb:\n",
    "            print('derivative -> 0')# fprintf('\\n derivative at initial guess is near 0, try different x0 \\n')\n",
    "        return\n",
    "    else:\n",
    "        n=0\n",
    "        if verb:\n",
    "            print(\"\\n|--n--|----xn----|---|f(xn)|---|---|f'(xn)|---|\")\n",
    "\n",
    "        #Iteration runs until f(xn) is small enough or nmax iterations are computed.\n",
    "\n",
    "        while n<=nmax:\n",
    "            if verb:\n",
    "                print(\"|--%d--|%1.8f|%1.8f|%1.8f|\" %(n,xn,np.abs(fn),np.abs(dfn)))\n",
    "\n",
    "            pn = - fn/dfn #Newton step\n",
    "            if np.abs(pn)<tol or np.abs(fn)<2e-15:\n",
    "                break\n",
    "\n",
    "            #Update guess adding Newton step\n",
    "            xn = xn + pn\n",
    "\n",
    "            # Update info and loop\n",
    "            n+=1\n",
    "            rn=np.append(rn,xn)\n",
    "            dfn=df(xn)\n",
    "            fn=f(xn)\n",
    "            nfun+=2\n",
    "\n",
    "        r=xn\n",
    "\n",
    "        # if n>=nmax:\n",
    "        #     print(\"Newton method failed to converge, niter=%d, nfun=%d, f(r)=%1.1e\\n'\" %(n,nfun,np.abs(fn)))\n",
    "        # else:\n",
    "        #     print(\"Newton method converged succesfully, niter=%d, nfun=%d, f(r)=%1.1e\" %(n,nfun,np.abs(fn)))\n",
    "\n",
    "    return r,rn,n\n",
    "\n",
    "def newton_2c(f,df,x0,tol,nmax,verb=False):\n",
    "\n",
    "    #Initialize iterates and iterate list\n",
    "    xn=x0\n",
    "    rn=np.array([x0])\n",
    "    # function evaluations\n",
    "    fn=f(xn); dfn=df(xn)\n",
    "    nfun=2 #evaluation counter nfun\n",
    "    dtol=1e-10 #tolerance for derivative (being near 0)\n",
    "\n",
    "    if abs(dfn)<dtol:\n",
    "        #If derivative is too small, Newton will fail. Error message is\n",
    "        #displayed and code terminates.\n",
    "        if verb:\n",
    "            print('derivative -> 0')# fprintf('\\n derivative at initial guess is near 0, try different x0 \\n')\n",
    "        return\n",
    "    else:\n",
    "        n=0\n",
    "        if verb:\n",
    "            print(\"\\n|--n--|----xn----|---|f(xn)|---|---|f'(xn)|---|\")\n",
    "\n",
    "        #Iteration runs until f(xn) is small enough or nmax iterations are computed.\n",
    "\n",
    "        while n<=nmax:\n",
    "            if verb:\n",
    "                print(\"|--%d--|%1.8f|%1.8f|%1.8f|\" %(n,xn,np.abs(fn),np.abs(dfn)))\n",
    "\n",
    "            pn = -3 * fn/dfn #Newton step\n",
    "            if np.abs(pn)<tol or np.abs(fn)<2e-15:\n",
    "                break\n",
    "\n",
    "            #Update guess adding Newton step\n",
    "            xn = xn + pn\n",
    "\n",
    "            # Update info and loop\n",
    "            n+=1\n",
    "            rn=np.append(rn,xn)\n",
    "            dfn=df(xn)\n",
    "            fn=f(xn)\n",
    "            nfun+=2\n",
    "\n",
    "        r=xn\n",
    "\n",
    "        # if n>=nmax:\n",
    "        #     print(\"Newton method failed to converge, niter=%d, nfun=%d, f(r)=%1.1e\\n'\" %(n,nfun,np.abs(fn)))\n",
    "        # else:\n",
    "        #     print(\"Newton method converged succesfully, niter=%d, nfun=%d, f(r)=%1.1e\" %(n,nfun,np.abs(fn)))\n",
    "\n",
    "    return r,rn,n\n",
    "\n",
    "f = lambda _x: (np.exp(_x) - (3 * _x * _x))**3\n",
    "df = lambda _x: 3*(np.exp(_x)-(3*_x*_x))**2*(np.exp(_x)-6*_x)\n",
    "\n",
    "x = np.linspace(3, 4, 1000)\n",
    "# plt.plot(x, f(x))\n",
    "# plt.show()\n",
    "new_r, new_iter, new_n = newton_method(f, df, 3.5, 1e-16, 1000)\n",
    "new_p = np.log(np.abs(new_iter[-2] - new_r))/np.log(np.abs(new_iter[-3] - new_r))\n",
    "print(f'Newton order of convergence: {new_p}, n={new_n}')\n",
    "\n",
    "tf = lambda _x: (np.exp(_x)-3*_x**2)/(3*(np.exp(_x)-6))\n",
    "dtf = lambda _x: (np.exp(_x)*(_x*_x-2*_x-2)+12*_x)/((np.exp(_x)-6)**2)\n",
    "mod_r, mod_iter, mod_n = newton_modified(tf, dtf, 3.5, 1e-16, 1000)\n",
    "mod_p = np.log(np.abs(mod_iter[-2] - mod_r))/np.log(np.abs(mod_iter[-3] - mod_r))\n",
    "print(f'Modified order of convergence: {mod_p}, n={mod_n}')\n",
    "\n",
    "\n",
    "two_r, two_iter, two_n = newton_2c(f, df, 3.5, 1e-16, 1000)\n",
    "two_p = np.log(np.abs(two_iter[-2] - two_r))/np.log(np.abs(two_iter[-3] - two_r))\n",
    "print(f'Newton 2c order of convergence: {two_p}, n={two_n}')\n",
    "\n"
   ],
   "id": "aff27a1f7a7c9a32",
   "outputs": [
    {
     "name": "stdout",
     "output_type": "stream",
     "text": [
      "Newton order of convergence: 1.0647639205490025, n=31\n",
      "Modified order of convergence: 2.1404285662110545, n=4\n",
      "Newton 2c order of convergence: 2.015265233567675, n=4\n"
     ]
    }
   ],
   "execution_count": 70
  },
  {
   "metadata": {},
   "cell_type": "markdown",
   "source": "# P5",
   "id": "47111d4ea9bb9591"
  },
  {
   "metadata": {
    "ExecuteTime": {
     "end_time": "2025-02-13T22:13:32.612009Z",
     "start_time": "2025-02-13T22:13:32.600580Z"
    }
   },
   "cell_type": "code",
   "source": [
    "def secant_method(f,x0,x1,tol,nmax,verb=False):\n",
    "    #secant (quasi-newton) method to find root of f starting with guesses x0 and x1\n",
    "\n",
    "    #Initialize iterates and iterate list\n",
    "    xnm=x0; xn=x1;\n",
    "    rn=np.array([x1]);\n",
    "    # function evaluations\n",
    "    fn=f(xn); fnm=f(xnm);\n",
    "    msec = (fn-fnm)/(xn-xnm);\n",
    "    nfun=2; #evaluation counter nfun\n",
    "    dtol=1e-10; #tolerance for derivative (being near 0)\n",
    "\n",
    "    if np.abs(msec)<dtol:\n",
    "        #If slope of secant is too small, secant will fail. Error message is\n",
    "        #displayed and code terminates.\n",
    "        if verb:\n",
    "            print('\\n slope of secant at initial guess is near 0, try different x0,x1 \\n');\n",
    "    else:\n",
    "        n=0;\n",
    "        if verb:\n",
    "            print(\"\\n|--n--|----xn----|---|f(xn)|---|---|msec|---|\");\n",
    "\n",
    "        #Iteration runs until f(xn) is small enough or nmax iterations are computed.\n",
    "\n",
    "        while n<=nmax:\n",
    "            if verb:\n",
    "                print(\"|--%d--|%1.8f|%1.8f|%1.8f|\" %(n,xn,np.abs(fn),np.abs(msec)));\n",
    "\n",
    "            pn = - fn/msec; #Secant step\n",
    "            if np.abs(pn)<tol or np.abs(fn)<2e-15:\n",
    "                break;\n",
    "\n",
    "            #Update guess adding Newton step, update xn-1\n",
    "            xnm = xn; #xn-1 is now xn\n",
    "            xn = xn + pn; #xn is now xn+pn\n",
    "\n",
    "            # Update info and loop\n",
    "            n+=1;\n",
    "            rn=np.append(rn,xn);\n",
    "            fnm = fn; #Note we can re-use this function evaluation\n",
    "            fn=f(xn); #So, only one extra evaluation is needed per iteration\n",
    "            msec = (fn-fnm)/(xn-xnm); # New slope of secant line\n",
    "            nfun+=1;\n",
    "\n",
    "        r=xn;\n",
    "\n",
    "        if n>=nmax:\n",
    "            print(\"Secant method failed to converge, niter=%d, nfun=%d, f(r)=%1.1e\\n'\" %(n,nfun,np.abs(fn)));\n",
    "        else:\n",
    "            print(\"Secant method converged succesfully, niter=%d, nfun=%d, f(r)=%1.1e\" %(n,nfun,np.abs(fn)));\n",
    "\n",
    "    return (r,rn,n)"
   ],
   "id": "4742813fbdb30408",
   "outputs": [],
   "execution_count": 7
  },
  {
   "metadata": {
    "ExecuteTime": {
     "end_time": "2025-02-13T22:33:00.451577Z",
     "start_time": "2025-02-13T22:32:59.975663Z"
    }
   },
   "cell_type": "code",
   "source": [
    "import matplotlib.pyplot as plt\n",
    "\n",
    "f = lambda _x: _x**6 - _x - 1\n",
    "df = lambda _x: 6*_x**5 - 1\n",
    "\n",
    "n_r, n_xn, n_n = newton_method(f, df, 2, 1e-16, 1000)\n",
    "s_r, s_xn, s_n = secant_method(f, 2, 1, 1e-16, 1000)\n",
    "print(n_r)\n",
    "\n",
    "plt.plot(range(n_n+1), np.abs(n_r - n_xn), label='newton')\n",
    "plt.plot(range(s_n+1), np.abs(n_r - s_xn), label='secant')\n",
    "plt.legend()\n",
    "plt.xlabel('iteration')\n",
    "plt.ylabel('error')\n",
    "plt.show()\n",
    "\n",
    "plt.loglog(np.abs(n_xn - n_r), np.abs(np.roll(n_xn, 1) - n_r))\n",
    "plt.loglog(np.abs(s_xn - s_r), np.abs(np.roll(s_xn, 1) - s_r))\n",
    "plt.show()"
   ],
   "id": "75bd02aca7f2fa9e",
   "outputs": [
    {
     "name": "stdout",
     "output_type": "stream",
     "text": [
      "Secant method converged succesfully, niter=8, nfun=10, f(r)=1.6e-15\n",
      "1.1347241384015194\n"
     ]
    },
    {
     "data": {
      "text/plain": [
       "<Figure size 640x480 with 1 Axes>"
      ],
      "image/png": "[encoded data removed]"
     },
     "metadata": {},
     "output_type": "display_data"
    },
    {
     "data": {
      "text/plain": [
       "<Figure size 640x480 with 1 Axes>"
      ],
      "image/png": "[encoded data removed]"
     },
     "metadata": {},
     "output_type": "display_data"
    }
   ],
   "execution_count": 20
  }
 ],
 "metadata": {
  "kernelspec": {
   "display_name": "Python 3",
   "language": "python",
   "name": "python3"
  },
  "language_info": {
   "codemirror_mode": {
    "name": "ipython",
    "version": 2
   },
   "file_extension": ".py",
   "mimetype": "text/x-python",
   "name": "python",
   "nbconvert_exporter": "python",
   "pygments_lexer": "ipython2",
   "version": "2.7.6"
  }
 },
 "nbformat": 4,
 "nbformat_minor": 5
}
