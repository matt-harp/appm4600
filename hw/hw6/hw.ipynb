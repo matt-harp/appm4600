{
 "cells": [
  {
   "cell_type": "code",
   "id": "initial_id",
   "metadata": {
    "collapsed": true,
    "ExecuteTime": {
     "end_time": "2025-02-27T17:58:43.762532Z",
     "start_time": "2025-02-27T17:58:43.721616Z"
    }
   },
   "source": [
    "import time\n",
    "\n",
    "import numpy as np\n",
    "\n",
    "from newton_and_quasinewton import broyden_method_nd, lazy_newton_method_nd, newton_method_nd\n",
    "\n",
    "G = lambda x: np.array([x[0]**2 + x[1]**2 - 4, np.exp(x[0]) + x[1] - 1])\n",
    "J = lambda x: np.array([[2*x[0], 2*x[1]], [np.exp(x[0]), 1]])\n",
    "\n",
    "for x0 in [np.array([1, -1]), np.array([1, 1]), np.array([0, 0])]:\n",
    "    print(f'for x0: {x0}')\n",
    "    try:\n",
    "        start = time.perf_counter()\n",
    "        r, _, n1, _ = newton_method_nd(G, J, x0, 1e-10, 100)\n",
    "        newton_time = time.perf_counter() - start\n",
    "        print(f'Newton: converges to {r} in {n1}. time is 100%')\n",
    "    except ValueError:\n",
    "        print('Newton: no convergence')\n",
    "    try:\n",
    "        start = time.perf_counter()\n",
    "        r, _, n1, _ = lazy_newton_method_nd(G, J, x0, 1e-10, 100)\n",
    "        lazy_time = time.perf_counter() - start\n",
    "        print(f'Lazy Newton: converges to {r} in {n1}. time is {(lazy_time / newton_time)*100:.2f}%')\n",
    "    except ValueError:\n",
    "        print('Lazy Newton: no convergence')\n",
    "    try:\n",
    "        start = time.perf_counter()\n",
    "        r, _, n1 = broyden_method_nd(G, J(x0), x0, 1e-10, 100, 'fwd')\n",
    "        fwd_time = time.perf_counter() - start\n",
    "        print(f'Broyden fwd: converges to {r} in {n1}. time is {(fwd_time / newton_time)*100:.2f}%')\n",
    "    except ValueError:\n",
    "        print('Broyden fwd: no convergence')\n",
    "    try:\n",
    "        start = time.perf_counter()\n",
    "        r, _, n1 = broyden_method_nd(G, np.linalg.inv(J(x0)), x0, 1e-10, 100, 'inv')\n",
    "        inv_time = time.perf_counter() - start\n",
    "        print(f'Broyden inv: converges to {r} in {n1}. time is {(inv_time / newton_time)*100:.2f}%')\n",
    "    except ValueError:\n",
    "        print('Broyden inv: no convergence')\n",
    "    try:\n",
    "        start = time.perf_counter()\n",
    "        r, _, n1 = broyden_method_nd(G, np.eye(2), x0, 1e-10, 100)\n",
    "        id_time = time.perf_counter() - start\n",
    "        print(f'Broyden Id: converges to {r} in {n1}. time is {(id_time / newton_time)*100:.2f}%')\n",
    "    except ValueError:\n",
    "        print('Broyden Id: no convergence')\n",
    "    print()"
   ],
   "outputs": [
    {
     "name": "stdout",
     "output_type": "stream",
     "text": [
      "for x0: [ 1 -1]\n",
      "Newton: converges to [ 1.00416874 -1.72963729] in 7. time is 100%\n",
      "Lazy Newton: converges to [ 1.00416874 -1.72963729] in 38. time is 514.36%\n",
      "Broyden fwd: converges to [ 1.00416874 -1.72963729] in 9. time is 148.69%\n",
      "Broyden inv: converges to [ 1.00416874 -1.72963729] in 9. time is 104.36%\n",
      "Broyden Id: converges to [ 1.00416874 -1.72963729] in 15. time is 131.82%\n",
      "\n",
      "for x0: [1 1]\n",
      "Newton: converges to [-1.81626407  0.8373678 ] in 9. time is 100%\n",
      "Lazy Newton: no convergence\n",
      "Broyden fwd: converges to [-1.81626407  0.8373678 ] in 15. time is 413.10%\n",
      "Broyden inv: converges to [-1.81626407  0.8373678 ] in 15. time is 213.53%\n",
      "Broyden Id: converges to [ 1.00416874 -1.72963729] in 22. time is 250.63%\n",
      "\n",
      "for x0: [0 0]\n",
      "Newton: no convergence\n",
      "Lazy Newton: no convergence\n",
      "Broyden fwd: no convergence\n",
      "Broyden inv: no convergence\n",
      "Broyden Id: converges to [-1.81626407  0.8373678 ] in 22. time is 477.33%\n",
      "\n"
     ]
    },
    {
     "name": "stderr",
     "output_type": "stream",
     "text": [
      "C:\\Users\\matth\\AppData\\Local\\Temp\\ipykernel_20836\\4118634078.py:7: RuntimeWarning: overflow encountered in exp\n",
      "  G = lambda x: np.array([x[0]**2 + x[1]**2 - 4, np.exp(x[0]) + x[1] - 1])\n"
     ]
    }
   ],
   "execution_count": 3
  },
  {
   "metadata": {
    "ExecuteTime": {
     "end_time": "2025-02-27T18:45:05.965116Z",
     "start_time": "2025-02-27T18:45:05.941736Z"
    }
   },
   "cell_type": "code",
   "source": [
    "from steepest_descent import steepest_descent\n",
    "\n",
    "G = lambda x: np.array([\n",
    "    x[0] + np.cos(x[0]*x[1]*x[2]) - 1,\n",
    "    (1 - x[0])**(1/4) + x[1] + 0.05*x[2]**2 - 0.15*x[2] - 1,\n",
    "    -x[0]**2 - 0.1*x[1]**2 + 0.01*x[1] + x[2] - 1\n",
    "])\n",
    "J = lambda x: np.array([\n",
    "    [1 - x[1]*x[2]*np.sin(x[0]*x[1]*x[2]), -x[0]*x[2]*np.sin(x[0]*x[1]*x[2]), -x[0]*x[1]*np.sin(x[0]*x[1]*x[2])],\n",
    "    [-1/(4*(1-x[0])**(3/4)), 1, 0.1*x[2]-0.15],\n",
    "    [-2*x[0], 0.01-0.2*x[1], 1]\n",
    "])\n",
    "\n",
    "x0 = np.array([0,1,1])\n",
    "\n",
    "r, _, n, _ = newton_method_nd(G, J, x0, 1e-6, 100)\n",
    "print(f'Newton converges to {r} with {n} iterations')\n",
    "\n",
    "def q(x):\n",
    "    f = G(x)\n",
    "    return 0.5*(f[0]**2+f[1]**2+f[2]**2)\n",
    "\n",
    "def Gq(x):\n",
    "    f = G(x)\n",
    "    j = J(x)\n",
    "    return j.T @ f\n",
    "\n",
    "r, _, n, _ = steepest_descent(q, Gq, x0, 1e-6, 100, verb=False)\n",
    "print(f'Steepest descent arrives at {r} with {n} iterations')\n",
    "\n",
    "start, _, n1, _ = steepest_descent(q, Gq, x0, 1e-2, 100, verb=False)\n",
    "r, _, n, _ = newton_method_nd(G, J, start, 1e-6, 100)\n",
    "print(f'Hybrid converges to {r} in {n1 + n} iterations')"
   ],
   "id": "7f19b2aaec9589ef",
   "outputs": [
    {
     "name": "stdout",
     "output_type": "stream",
     "text": [
      "Newton converges to [0.  0.1 1. ] with 5 iterations\n",
      "Steepest descent arrives at [4.04030820e-07 9.99997971e-02 1.00000009e+00] with 23 iterations\n",
      "Hybrid converges to [-2.89095492e-17  1.00000000e-01  1.00000000e+00] in 13 iterations\n"
     ]
    }
   ],
   "execution_count": 45
  }
 ],
 "metadata": {
  "kernelspec": {
   "display_name": "Python 3",
   "language": "python",
   "name": "python3"
  },
  "language_info": {
   "codemirror_mode": {
    "name": "ipython",
    "version": 2
   },
   "file_extension": ".py",
   "mimetype": "text/x-python",
   "name": "python",
   "nbconvert_exporter": "python",
   "pygments_lexer": "ipython2",
   "version": "2.7.6"
  }
 },
 "nbformat": 4,
 "nbformat_minor": 5
}
