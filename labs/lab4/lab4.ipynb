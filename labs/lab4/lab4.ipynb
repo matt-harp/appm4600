{
 "cells": [
  {
   "cell_type": "code",
   "id": "initial_id",
   "metadata": {
    "collapsed": true,
    "ExecuteTime": {
     "end_time": "2025-02-04T16:50:38.835316Z",
     "start_time": "2025-02-04T16:50:38.825216Z"
    }
   },
   "source": [
    "# import libraries\n",
    "import numpy as np\n",
    "\n",
    "# define routines\n",
    "def fixedpt(f,x0,tol,Nmax):\n",
    "\n",
    "    ''' x0 = initial guess'''\n",
    "    ''' Nmax = max number of iterations'''\n",
    "    ''' tol = stopping tolerance'''\n",
    "\n",
    "    entries = np.zeros((Nmax, 1))\n",
    "    count = 0\n",
    "    while count < Nmax:\n",
    "        entries[count] = f(x0)\n",
    "        count = count + 1\n",
    "        x1 = f(x0)\n",
    "        if abs(x1 - x0) < tol:\n",
    "            return entries[entries > 0]\n",
    "        x0 = x1\n",
    "\n",
    "    return entries\n",
    "\n",
    "def alpha(pn, p):\n",
    "    alpha = np.zeros(len(pn)-1)\n",
    "    for n in range(1, len(pn)):\n",
    "        alpha[n-1] = np.log(np.abs(pn[n - 1] - p))/np.log(np.abs(pn[n] - p))\n",
    "    return alpha"
   ],
   "outputs": [],
   "execution_count": 30
  },
  {
   "metadata": {
    "ExecuteTime": {
     "end_time": "2025-02-04T16:50:41.164750Z",
     "start_time": "2025-02-04T16:50:41.153920Z"
    }
   },
   "cell_type": "code",
   "source": [
    "def g(x):\n",
    "    return np.sqrt(10/(x+4))\n",
    "\n",
    "pn = fixedpt(g, 1.5, 1e-10, 1000)\n",
    "\n",
    "alpha(pn, 1.3652300134140976)"
   ],
   "id": "1c5f9e22ef724a4d",
   "outputs": [
    {
     "data": {
      "text/plain": [
       "array([0.66480904, 0.74871412, 0.7992042 , 0.83277816, 0.85673549,\n",
       "       0.87468819, 0.88864259, 0.89980057, 0.90892587, 0.91652982,\n",
       "       0.92294653])"
      ]
     },
     "execution_count": 31,
     "metadata": {},
     "output_type": "execute_result"
    }
   ],
   "execution_count": 31
  }
 ],
 "metadata": {
  "kernelspec": {
   "display_name": "Python 3",
   "language": "python",
   "name": "python3"
  },
  "language_info": {
   "codemirror_mode": {
    "name": "ipython",
    "version": 2
   },
   "file_extension": ".py",
   "mimetype": "text/x-python",
   "name": "python",
   "nbconvert_exporter": "python",
   "pygments_lexer": "ipython2",
   "version": "2.7.6"
  }
 },
 "nbformat": 4,
 "nbformat_minor": 5
}
