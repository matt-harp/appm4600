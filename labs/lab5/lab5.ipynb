{
 "cells": [
  {
   "cell_type": "code",
   "id": "initial_id",
   "metadata": {
    "collapsed": true,
    "ExecuteTime": {
     "end_time": "2025-02-11T16:39:23.151542Z",
     "start_time": "2025-02-11T16:39:23.134804Z"
    }
   },
   "source": [
    "from typing import Tuple\n",
    "import numpy as np\n",
    "\n",
    "def bisection(f,a,b,tol) -> Tuple[bool, float, int]:\n",
    "    fa = f(a)\n",
    "    fb = f(b)\n",
    "    # failure when it won't converge\n",
    "    if fa * fb > 0: return False, np.inf, 0\n",
    "    # verify end points are not a root\n",
    "    if fa == 0:     return True, a, 0\n",
    "    if fb == 0:     return True, b, 0\n",
    "\n",
    "    count = 0\n",
    "    d = 0.5*(a+b)\n",
    "    while abs(d - a) > tol:\n",
    "        fd = f(d)\n",
    "        if fd == 0:         return True, d, count\n",
    "        if fa * fd < 0:     b = d\n",
    "        else:               a = d; fa = fd\n",
    "        d = 0.5*(a+b)\n",
    "        count += 1\n",
    "    return True, d, count\n",
    "\n",
    "def newton_method(f,df,x0,tol,nmax,verb=False):\n",
    "\n",
    "    #Initialize iterates and iterate list\n",
    "    xn=x0\n",
    "    rn=np.array([x0])\n",
    "    # function evaluations\n",
    "    fn=f(xn); dfn=df(xn)\n",
    "    nfun=2 #evaluation counter nfun\n",
    "    dtol=1e-10 #tolerance for derivative (being near 0)\n",
    "\n",
    "    if abs(dfn)<dtol:\n",
    "        #If derivative is too small, Newton will fail. Error message is\n",
    "        #displayed and code terminates.\n",
    "        if verb:\n",
    "            print('derivative -> 0')# fprintf('\\n derivative at initial guess is near 0, try different x0 \\n')\n",
    "        return\n",
    "    else:\n",
    "        n=0\n",
    "        if verb:\n",
    "            print(\"\\n|--n--|----xn----|---|f(xn)|---|---|f'(xn)|---|\")\n",
    "\n",
    "        #Iteration runs until f(xn) is small enough or nmax iterations are computed.\n",
    "\n",
    "        while n<=nmax:\n",
    "            if verb:\n",
    "                print(\"|--%d--|%1.8f|%1.8f|%1.8f|\" %(n,xn,np.abs(fn),np.abs(dfn)))\n",
    "\n",
    "            pn = - fn/dfn #Newton step\n",
    "            if np.abs(pn)<tol or np.abs(fn)<2e-15:\n",
    "                break\n",
    "\n",
    "            #Update guess adding Newton step\n",
    "            xn = xn + pn\n",
    "\n",
    "            # Update info and loop\n",
    "            n+=1\n",
    "            rn=np.append(rn,xn)\n",
    "            dfn=df(xn)\n",
    "            fn=f(xn)\n",
    "            nfun+=2\n",
    "\n",
    "        r=xn\n",
    "\n",
    "        # if n>=nmax:\n",
    "        #     print(\"Newton method failed to converge, niter=%d, nfun=%d, f(r)=%1.1e\\n'\" %(n,nfun,np.abs(fn)))\n",
    "        # else:\n",
    "        #     print(\"Newton method converged succesfully, niter=%d, nfun=%d, f(r)=%1.1e\" %(n,nfun,np.abs(fn)))\n",
    "\n",
    "    return r,rn,nfun\n"
   ],
   "outputs": [],
   "execution_count": 5
  },
  {
   "metadata": {
    "ExecuteTime": {
     "end_time": "2025-02-11T16:44:46.368566Z",
     "start_time": "2025-02-11T16:44:46.356212Z"
    }
   },
   "cell_type": "code",
   "source": [
    "def hybrid(f, df, a, b, tol=1e-2):\n",
    "    success, x1, count = bisection(f, a, b, tol)\n",
    "    r, rn, niter = newton_method(f, df, x1, 1e-16, 1000)\n",
    "    return r, count + niter\n",
    "\n",
    "f = lambda x: np.exp(x*x+7*x-30) - 1\n",
    "df = lambda x: (2*x+7)*np.exp(x*x+7*x-30)\n",
    "\n",
    "_, bisec_r, bisec_n   = bisection(f, 2, 4.5, 1e-16)\n",
    "newton_r, _, newton_n = newton_method(f, df, 4.5, 1e-16, 1000)\n",
    "hybrid_r, hybrid_n    = hybrid(f, df, 2, 4.5, 0.3e-1)\n",
    "\n",
    "print(f'bisection: {bisec_n} iterations to reach r={bisec_r}')\n",
    "print(f'newton: {newton_n} iterations to reach r={newton_r}')\n",
    "print(f'hybrid: {hybrid_n} iterations to reach r={hybrid_r}')"
   ],
   "id": "1bf34dbc22fcc424",
   "outputs": [
    {
     "name": "stdout",
     "output_type": "stream",
     "text": [
      "bisection: 50 iterations to reach r=3.0\n",
      "newton: 56 iterations to reach r=3.0\n",
      "hybrid: 16 iterations to reach r=3.0\n"
     ]
    }
   ],
   "execution_count": 24
  }
 ],
 "metadata": {
  "kernelspec": {
   "display_name": "Python 3",
   "language": "python",
   "name": "python3"
  },
  "language_info": {
   "codemirror_mode": {
    "name": "ipython",
    "version": 2
   },
   "file_extension": ".py",
   "mimetype": "text/x-python",
   "name": "python",
   "nbconvert_exporter": "python",
   "pygments_lexer": "ipython2",
   "version": "2.7.6"
  }
 },
 "nbformat": 4,
 "nbformat_minor": 5
}
