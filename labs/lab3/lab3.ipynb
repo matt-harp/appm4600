{
 "cells": [
  {
   "cell_type": "code",
   "id": "initial_id",
   "metadata": {
    "collapsed": true,
    "ExecuteTime": {
     "end_time": "2025-01-28T16:13:34.618402Z",
     "start_time": "2025-01-28T16:13:34.606674Z"
    }
   },
   "source": [
    "# import libraries\n",
    "import numpy as np\n",
    "\n",
    "# define routines\n",
    "def bisection(f,a,b,tol):\n",
    "\n",
    "    #    Inputs:\n",
    "    #     f,a,b       - function and endpoints of initial interval\n",
    "    #      tol  - bisection stops when interval length < tol\n",
    "\n",
    "    #    Returns:\n",
    "    #      astar - approximation of root\n",
    "    #      ier   - error message\n",
    "    #            - ier = 1 => Failed\n",
    "    #            - ier = 0 == success\n",
    "\n",
    "    #     first verify there is a root we can find in the interval\n",
    "\n",
    "    fa = f(a)\n",
    "    fb = f(b);\n",
    "    if (fa*fb>0):\n",
    "        ier = 1\n",
    "        astar = a\n",
    "        return [astar, ier]\n",
    "\n",
    "    #   verify end points are not a root\n",
    "    if (fa == 0):\n",
    "        astar = a\n",
    "        ier =0\n",
    "        return [astar, ier]\n",
    "\n",
    "    if (fb ==0):\n",
    "        astar = b\n",
    "        ier = 0\n",
    "        return [astar, ier]\n",
    "\n",
    "    count = 0\n",
    "    d = 0.5*(a+b)\n",
    "    while (abs(d-a)> tol):\n",
    "        fd = f(d)\n",
    "        if (fd ==0):\n",
    "            astar = d\n",
    "            ier = 0\n",
    "            return [astar, ier]\n",
    "        if (fa*fd<0):\n",
    "            b = d\n",
    "        else:\n",
    "            a = d\n",
    "            fa = fd\n",
    "        d = 0.5*(a+b)\n",
    "        count = count +1\n",
    "    #      print('abs(d-a) = ', abs(d-a))\n",
    "\n",
    "    astar = d\n",
    "    ier = 0\n",
    "    return [astar, ier]"
   ],
   "outputs": [],
   "execution_count": 2
  },
  {
   "metadata": {
    "ExecuteTime": {
     "end_time": "2025-01-28T16:24:37.418888Z",
     "start_time": "2025-01-28T16:24:37.405475Z"
    }
   },
   "cell_type": "code",
   "source": [
    "f = lambda x: x**2*(x-1)\n",
    "tol = 1e-15\n",
    "\n",
    "# a)\n",
    "[root, error] = bisection(f, 0.5, 2, tol)\n",
    "if error == 1:\n",
    "    print('could not find a root for [0.5, 2]')\n",
    "else:\n",
    "    print(f'root at x={root}, f({root})={f(root)}')\n",
    "\n",
    "# b)\n",
    "[root, error] = bisection(f, -1, 0.5, tol)\n",
    "if error == 1:\n",
    "    print('could not find a root for [-1, 0.5]')\n",
    "else:\n",
    "    print(f'root at x={root}, f({root})={f(root)}')\n",
    "\n",
    "# c)\n",
    "[root, error] = bisection(f, -1, 2, tol)\n",
    "if error == 1:\n",
    "    print('could not find a root for [-1, 2]')\n",
    "else:\n",
    "    print(f'root at x={root}, f({root})={f(root)}')"
   ],
   "id": "94222b7533d5b08c",
   "outputs": [
    {
     "name": "stdout",
     "output_type": "stream",
     "text": [
      "root at x=1.0000000000000002, f(1.0000000000000002)=2.220446049250314e-16\n",
      "could not find a root for [-1, 0.5]\n",
      "root at x=1.0000000000000002, f(1.0000000000000002)=2.220446049250314e-16\n"
     ]
    }
   ],
   "execution_count": 11
  },
  {
   "metadata": {},
   "cell_type": "markdown",
   "source": "b) is not able to be find the root at x=0 because there are no points on either side of the root with opposite sign",
   "id": "80d5dbd0c49ecbdd"
  },
  {
   "metadata": {
    "ExecuteTime": {
     "end_time": "2025-01-28T16:35:36.446206Z",
     "start_time": "2025-01-28T16:35:36.432758Z"
    }
   },
   "cell_type": "code",
   "source": [
    "tol = 1e-5\n",
    "[root, error] = bisection(lambda x: (x-1)*(x-3)*(x-5), 0, 2.4, tol)\n",
    "if error == 1:\n",
    "    print('a) failed')\n",
    "else:\n",
    "    print(f'a) f({root}) = {f(root)}')\n",
    "\n",
    "[root, error] = bisection(lambda x: (x-1)**2*(x-3), 0, 2, tol)\n",
    "if error == 1:\n",
    "    print('b) failed')\n",
    "else:\n",
    "    print(f'b) f({root}) = {f(root)}')\n",
    "\n",
    "[root, error] = bisection(lambda x: np.sin(x), 0, 0.1, tol)\n",
    "if error == 1:\n",
    "    print('c.1) failed')\n",
    "else:\n",
    "    print(f'c.1) f({root}) = {f(root)}')\n",
    "\n",
    "[root, error] = bisection(lambda x: np.sin(x), 0.5, 3*np.pi/4, tol)\n",
    "if error == 1:\n",
    "    print('c.2) failed')\n",
    "else:\n",
    "    print(f'c.2) f({root}) = {f(root)}')"
   ],
   "id": "42ef95dc9586a97",
   "outputs": [
    {
     "name": "stdout",
     "output_type": "stream",
     "text": [
      "a) f(1.0000030517578122) = 3.051776438713457e-06\n",
      "b) failed\n",
      "c.1) f(0) = 0\n",
      "c.2) failed\n"
     ]
    }
   ],
   "execution_count": 25
  },
  {
   "metadata": {},
   "cell_type": "markdown",
   "source": "This is performing as expected--the failures are due to the bisection method not being able to find roots without opposite signs, or there not being a root in the interval (c2). The algorithm is giving results to the expected accuracy or better.",
   "id": "79416072b47f23b9"
  },
  {
   "metadata": {
    "ExecuteTime": {
     "end_time": "2025-01-28T16:43:39.466922Z",
     "start_time": "2025-01-28T16:43:39.457908Z"
    }
   },
   "cell_type": "code",
   "source": [
    "# import libraries\n",
    "import numpy as np\n",
    "\n",
    "# define routines\n",
    "def fixedpt(f,x0,tol,Nmax):\n",
    "\n",
    "    ''' x0 = initial guess'''\n",
    "    ''' Nmax = max number of iterations'''\n",
    "    ''' tol = stopping tolerance'''\n",
    "\n",
    "    count = 0\n",
    "    while (count <Nmax):\n",
    "        count = count +1\n",
    "        x1 = f(x0)\n",
    "        if (abs(x1-x0) <tol):\n",
    "            xstar = x1\n",
    "            ier = 0\n",
    "            return [xstar,ier]\n",
    "        x0 = x1\n",
    "\n",
    "    xstar = x1\n",
    "    ier = 1\n",
    "    return [xstar, ier]"
   ],
   "id": "e4b0bbc14c8bf274",
   "outputs": [],
   "execution_count": 27
  },
  {
   "metadata": {
    "ExecuteTime": {
     "end_time": "2025-01-28T16:54:50.049486Z",
     "start_time": "2025-01-28T16:54:50.029472Z"
    }
   },
   "cell_type": "code",
   "source": [
    "tol = 1e-10\n",
    "try:\n",
    "    [xstar, error] = fixedpt(lambda x: x*(1+((7-x**5)/(x**2)))**3, 1, tol, 5)\n",
    "    if error == 1:\n",
    "        print('a) failed')\n",
    "    else:\n",
    "        print(f'a) f({xstar}) = {f(xstar)}')\n",
    "except OverflowError:\n",
    "    print('a) does not converge')\n",
    "\n",
    "try:\n",
    "    [xstar, error] = fixedpt(lambda x: x-((x**5-7)/x**2), 1, tol, 50)\n",
    "    if error == 1:\n",
    "        print('b) failed')\n",
    "    else:\n",
    "        print(f'b) f({xstar}) = {f(xstar)}')\n",
    "except OverflowError:\n",
    "    print('b) does not converge')\n",
    "\n",
    "try:\n",
    "    [xstar, error] = fixedpt(lambda x: x-((x**5-7)/5*x**4), 1, tol, 50)\n",
    "    if error == 1:\n",
    "        print('c) failed')\n",
    "    else:\n",
    "        print(f'c) f({xstar}) = {f(xstar)}')\n",
    "except OverflowError:\n",
    "    print('c) does not converge')\n",
    "\n",
    "try:\n",
    "    [xstar, error] = fixedpt(lambda x: x-((x**5-7)/12), 1, tol, 10000)\n",
    "    if error == 1:\n",
    "        print('d) failed')\n",
    "    else:\n",
    "        print(f'd) f({xstar}) = {f(xstar)}')\n",
    "except OverflowError:\n",
    "    print('d) does not converge')"
   ],
   "id": "3a31a0f7318606eb",
   "outputs": [
    {
     "name": "stdout",
     "output_type": "stream",
     "text": [
      "a) does not converge\n",
      "b) does not converge\n",
      "c) does not converge\n",
      "d) f(1.4757731616428729) = 1.0361894254063524\n"
     ]
    }
   ],
   "execution_count": 45
  }
 ],
 "metadata": {
  "kernelspec": {
   "display_name": "Python 3",
   "language": "python",
   "name": "python3"
  },
  "language_info": {
   "codemirror_mode": {
    "name": "ipython",
    "version": 2
   },
   "file_extension": ".py",
   "mimetype": "text/x-python",
   "name": "python",
   "nbconvert_exporter": "python",
   "pygments_lexer": "ipython2",
   "version": "2.7.6"
  }
 },
 "nbformat": 4,
 "nbformat_minor": 5
}
